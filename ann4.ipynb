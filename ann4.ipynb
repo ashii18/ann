{
  "nbformat": 4,
  "nbformat_minor": 0,
  "metadata": {
    "colab": {
      "provenance": [],
      "authorship_tag": "ABX9TyN+lhXD1yhkgSFseQg9J4qk",
      "include_colab_link": true
    },
    "kernelspec": {
      "name": "python3",
      "display_name": "Python 3"
    },
    "language_info": {
      "name": "python"
    }
  },
  "cells": [
    {
      "cell_type": "markdown",
      "metadata": {
        "id": "view-in-github",
        "colab_type": "text"
      },
      "source": [
        "<a href=\"https://colab.research.google.com/github/ashii18/ann/blob/main/ann4.ipynb\" target=\"_parent\"><img src=\"https://colab.research.google.com/assets/colab-badge.svg\" alt=\"Open In Colab\"/></a>"
      ]
    },
    {
      "cell_type": "code",
      "execution_count": 3,
      "metadata": {
        "colab": {
          "base_uri": "https://localhost:8080/"
        },
        "id": "Ny-WmffbbtZr",
        "outputId": "717ccba3-7379-4003-f0c7-9ea54d6c7c78"
      },
      "outputs": [
        {
          "output_type": "stream",
          "name": "stdout",
          "text": [
            "X =  [[ 1  1  1  1  1  1]\n",
            " [-1 -1 -1 -1 -1 -1]\n",
            " [ 1 -1 -1  1  1  1]\n",
            " [ 1  1 -1 -1 -1 -1]]\n",
            "\n",
            "Y =  [[ 1  1  1]\n",
            " [-1 -1 -1]\n",
            " [-1  1  1]\n",
            " [ 1 -1  1]]\n",
            "\n",
            "\n",
            "Dimensions of X:  (4, 6)\n",
            "\n",
            "Dimensions of Y:  (4, 3)\n"
          ]
        }
      ],
      "source": [
        "\n",
        "\n",
        "import numpy as np\n",
        "import random\n",
        "import math\n",
        "\n",
        "X1 = [1, 1, 1, 1, 1, 1]\n",
        "X2 = [-1, -1, -1, -1, -1, -1]\n",
        "X3 = [1, -1, -1, 1, 1, 1]\n",
        "X4 =[1, 1, -1, -1, -1, -1]\n",
        "X = np.array([X1, X2, X3, X4])\n",
        "\n",
        "Y1 = [1, 1, 1]\n",
        "Y2 =[-1, -1, -1]\n",
        "Y3 = [-1, 1, 1]\n",
        "Y4 = [1, -1, 1]\n",
        "Y = np.array([Y1, Y2, Y3, Y4])\n",
        "\n",
        "print(\"X = \", X)\n",
        "print(\"\\nY = \", Y)\n",
        "print(\"\\n\\nDimensions of X: \", X.shape)\n",
        "print(\"\\nDimensions of Y: \", Y.shape)"
      ]
    },
    {
      "cell_type": "code",
      "source": [
        "def calcweight (X, Y):\n",
        "  return np.dot(X.T, Y)\n",
        "weight= calcweight (X, Y)\n",
        "print('W =', weight, end = \"\")\n",
        "\n",
        "print(\"\\n\\nDimensions of Weight Matrix: \",weight.shape)"
      ],
      "metadata": {
        "colab": {
          "base_uri": "https://localhost:8080/"
        },
        "id": "CeNLpTckbyA2",
        "outputId": "1608122a-0c2f-4057-8779-2b8572844d75"
      },
      "execution_count": 6,
      "outputs": [
        {
          "output_type": "stream",
          "name": "stdout",
          "text": [
            "W = [[2 2 4]\n",
            " [4 0 2]\n",
            " [2 2 0]\n",
            " [0 4 2]\n",
            " [0 4 2]\n",
            " [0 4 2]]\n",
            "\n",
            "Dimensions of Weight Matrix:  (6, 3)\n"
          ]
        }
      ]
    },
    {
      "cell_type": "code",
      "source": [
        "\n",
        "def ForwardBipolarActivation (matrix, weight):\n",
        "  matrix[matrix > 0] = 1\n",
        "  matrix[matrix <= 0]=-1\n",
        "  return np.array(matrix)\n",
        "\n",
        "def BackwardBipolarActivation (matrix, weight):\n",
        "  matrix[matrix >= 0] = 1\n",
        "  matrix[matrix < 0] = -1\n",
        "  return np.array(matrix)\n",
        "\n",
        "def forward (Y, weight):\n",
        "  x = np.dot (Y, weight.T)\n",
        "  return ForwardBipolarActivation (x, weight)\n",
        "\n",
        "\n",
        "print(\"\\nweight Y1 = \", forward (Y1, weight),\" = x1\")\n",
        "print(\"\\nweight Y2 = \", forward (Y2, weight), \" = x2\")\n",
        "print(\"\\nweight * Y3 = \", forward (Y3, weight), \" = x3\")\n",
        "print(\"\\nweight Y4 = \", forward (Y4, weight), \" = x4\")\n",
        "print(\"\\n\\nIt is observed that the obtained results match with the original x matrices. \\n\\nThus forward testing is 100% accurate.\")\n"
      ],
      "metadata": {
        "colab": {
          "base_uri": "https://localhost:8080/"
        },
        "id": "KgQgUWCccY_r",
        "outputId": "36972b68-5db9-49dc-c033-b2e5325245a0"
      },
      "execution_count": 7,
      "outputs": [
        {
          "output_type": "stream",
          "name": "stdout",
          "text": [
            "\n",
            "weight Y1 =  [1 1 1 1 1 1]  = x1\n",
            "\n",
            "weight Y2 =  [-1 -1 -1 -1 -1 -1]  = x2\n",
            "\n",
            "weight * Y3 =  [ 1 -1 -1  1  1  1]  = x3\n",
            "\n",
            "weight Y4 =  [ 1  1 -1 -1 -1 -1]  = x4\n",
            "\n",
            "\n",
            "It is observed that the obtained results match with the original x matrices. \n",
            "\n",
            "Thus forward testing is 100% accurate.\n"
          ]
        }
      ]
    },
    {
      "cell_type": "code",
      "source": [
        "def backward (X, weight):\n",
        "  Y = np.dot (weight.T, X)\n",
        "  return BackwardBipolarActivation (Y, weight)\n",
        "\n",
        "\n",
        "print(\"\\nweight x1 = \", backward (X1, weight),\"= Y1\")\n",
        "print(\"\\nweight X2 =\", backward (X2, weight), \" = Y2\")\n",
        "print(\"\\nweight x3 = \", backward (X3, weight), \" = Y3\")\n",
        "print(\"\\nweight x4 = \", backward (X4, weight), \" = Y4\")\n",
        "print(\"\\n\\nIt is observed that the obtained results match with the original Y (target) matrices. \\n\\nThus backward testing is 100% accurate.\")"
      ],
      "metadata": {
        "colab": {
          "base_uri": "https://localhost:8080/"
        },
        "id": "aBQL34KkdKc8",
        "outputId": "b09e17d6-8b13-4e75-c273-ff11173bd35b"
      },
      "execution_count": 8,
      "outputs": [
        {
          "output_type": "stream",
          "name": "stdout",
          "text": [
            "\n",
            "weight x1 =  [1 1 1] = Y1\n",
            "\n",
            "weight X2 = [-1 -1 -1]  = Y2\n",
            "\n",
            "weight x3 =  [-1  1  1]  = Y3\n",
            "\n",
            "weight x4 =  [ 1 -1  1]  = Y4\n",
            "\n",
            "\n",
            "It is observed that the obtained results match with the original Y (target) matrices. \n",
            "\n",
            "Thus backward testing is 100% accurate.\n"
          ]
        }
      ]
    },
    {
      "cell_type": "code",
      "source": [],
      "metadata": {
        "id": "Nd2383bSd6xt"
      },
      "execution_count": null,
      "outputs": []
    }
  ]
}